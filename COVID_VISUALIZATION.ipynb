{
  "nbformat": 4,
  "nbformat_minor": 0,
  "metadata": {
    "colab": {
      "name": "Untitled1.ipynb",
      "provenance": [],
      "authorship_tag": "ABX9TyPm5C5CXgsPyUBAQLfeoicC",
      "include_colab_link": true
    },
    "kernelspec": {
      "name": "python3",
      "display_name": "Python 3"
    }
  },
  "cells": [
    {
      "cell_type": "markdown",
      "metadata": {
        "id": "view-in-github",
        "colab_type": "text"
      },
      "source": [
        "<a href=\"https://colab.research.google.com/github/sumana-vemuri/PROJECTS/blob/master/COVID_VISUALIZATION.ipynb\" target=\"_parent\"><img src=\"https://colab.research.google.com/assets/colab-badge.svg\" alt=\"Open In Colab\"/></a>"
      ]
    },
    {
      "cell_type": "markdown",
      "metadata": {
        "id": "1uh_UIq_HtFs",
        "colab_type": "text"
      },
      "source": [
        "This notebook consists of visulization related to covid-19, to check number of deaths and cases of covid-19"
      ]
    },
    {
      "cell_type": "markdown",
      "metadata": {
        "id": "DJiTdFafHqCy",
        "colab_type": "text"
      },
      "source": [
        ""
      ]
    },
    {
      "cell_type": "code",
      "metadata": {
        "id": "H0s77OOZFP8t",
        "colab_type": "code",
        "colab": {}
      },
      "source": [
        "import pandas as pd\n",
        "#import matplotlib.pyplot.plot\n",
        "\n",
        "import pandas as pd\n",
        "import matplotlib.pyplot as plt\n",
        "import matplotlib.animation as animation\n",
        "from time import sleep"
      ],
      "execution_count": 0,
      "outputs": []
    },
    {
      "cell_type": "code",
      "metadata": {
        "id": "Axs3Fd6vFR3P",
        "colab_type": "code",
        "colab": {}
      },
      "source": [
        "df=pd.read_csv(\"us-counties.csv\")"
      ],
      "execution_count": 0,
      "outputs": []
    },
    {
      "cell_type": "markdown",
      "metadata": {
        "id": "I5xqasP3GEzi",
        "colab_type": "text"
      },
      "source": [
        "# New Section"
      ]
    },
    {
      "cell_type": "markdown",
      "metadata": {
        "id": "wTK8jh04GFRz",
        "colab_type": "text"
      },
      "source": [
        "# New Section"
      ]
    },
    {
      "cell_type": "code",
      "metadata": {
        "id": "RDD1JKyGFT5S",
        "colab_type": "code",
        "colab": {
          "base_uri": "https://localhost:8080/",
          "height": 204
        },
        "outputId": "9ba1fff0-f375-43a5-bf12-421c3f1ed1d8"
      },
      "source": [
        "df.head()"
      ],
      "execution_count": 5,
      "outputs": [
        {
          "output_type": "execute_result",
          "data": {
            "text/html": [
              "<div>\n",
              "<style scoped>\n",
              "    .dataframe tbody tr th:only-of-type {\n",
              "        vertical-align: middle;\n",
              "    }\n",
              "\n",
              "    .dataframe tbody tr th {\n",
              "        vertical-align: top;\n",
              "    }\n",
              "\n",
              "    .dataframe thead th {\n",
              "        text-align: right;\n",
              "    }\n",
              "</style>\n",
              "<table border=\"1\" class=\"dataframe\">\n",
              "  <thead>\n",
              "    <tr style=\"text-align: right;\">\n",
              "      <th></th>\n",
              "      <th>date</th>\n",
              "      <th>county</th>\n",
              "      <th>state</th>\n",
              "      <th>fips</th>\n",
              "      <th>cases</th>\n",
              "      <th>deaths</th>\n",
              "    </tr>\n",
              "  </thead>\n",
              "  <tbody>\n",
              "    <tr>\n",
              "      <th>0</th>\n",
              "      <td>2020-01-21</td>\n",
              "      <td>Snohomish</td>\n",
              "      <td>Washington</td>\n",
              "      <td>53061.0</td>\n",
              "      <td>1.0</td>\n",
              "      <td>0.0</td>\n",
              "    </tr>\n",
              "    <tr>\n",
              "      <th>1</th>\n",
              "      <td>2020-01-22</td>\n",
              "      <td>Snohomish</td>\n",
              "      <td>Washington</td>\n",
              "      <td>53061.0</td>\n",
              "      <td>1.0</td>\n",
              "      <td>0.0</td>\n",
              "    </tr>\n",
              "    <tr>\n",
              "      <th>2</th>\n",
              "      <td>2020-01-23</td>\n",
              "      <td>Snohomish</td>\n",
              "      <td>Washington</td>\n",
              "      <td>53061.0</td>\n",
              "      <td>1.0</td>\n",
              "      <td>0.0</td>\n",
              "    </tr>\n",
              "    <tr>\n",
              "      <th>3</th>\n",
              "      <td>2020-01-24</td>\n",
              "      <td>Cook</td>\n",
              "      <td>Illinois</td>\n",
              "      <td>17031.0</td>\n",
              "      <td>1.0</td>\n",
              "      <td>0.0</td>\n",
              "    </tr>\n",
              "    <tr>\n",
              "      <th>4</th>\n",
              "      <td>2020-01-24</td>\n",
              "      <td>Snohomish</td>\n",
              "      <td>Washington</td>\n",
              "      <td>53061.0</td>\n",
              "      <td>1.0</td>\n",
              "      <td>0.0</td>\n",
              "    </tr>\n",
              "  </tbody>\n",
              "</table>\n",
              "</div>"
            ],
            "text/plain": [
              "         date     county       state     fips  cases  deaths\n",
              "0  2020-01-21  Snohomish  Washington  53061.0    1.0     0.0\n",
              "1  2020-01-22  Snohomish  Washington  53061.0    1.0     0.0\n",
              "2  2020-01-23  Snohomish  Washington  53061.0    1.0     0.0\n",
              "3  2020-01-24       Cook    Illinois  17031.0    1.0     0.0\n",
              "4  2020-01-24  Snohomish  Washington  53061.0    1.0     0.0"
            ]
          },
          "metadata": {
            "tags": []
          },
          "execution_count": 5
        }
      ]
    },
    {
      "cell_type": "markdown",
      "metadata": {
        "id": "6p2DJyWaG8wU",
        "colab_type": "text"
      },
      "source": [
        "#a specific code for counties, this may vary for metro areas"
      ]
    },
    {
      "cell_type": "code",
      "metadata": {
        "id": "xIJpkv_pFXPc",
        "colab_type": "code",
        "colab": {
          "base_uri": "https://localhost:8080/",
          "height": 204
        },
        "outputId": "b57efec8-c941-4493-e60e-0e6f28f14661"
      },
      "source": [
        "df.tail()"
      ],
      "execution_count": 7,
      "outputs": [
        {
          "output_type": "execute_result",
          "data": {
            "text/html": [
              "<div>\n",
              "<style scoped>\n",
              "    .dataframe tbody tr th:only-of-type {\n",
              "        vertical-align: middle;\n",
              "    }\n",
              "\n",
              "    .dataframe tbody tr th {\n",
              "        vertical-align: top;\n",
              "    }\n",
              "\n",
              "    .dataframe thead th {\n",
              "        text-align: right;\n",
              "    }\n",
              "</style>\n",
              "<table border=\"1\" class=\"dataframe\">\n",
              "  <thead>\n",
              "    <tr style=\"text-align: right;\">\n",
              "      <th></th>\n",
              "      <th>date</th>\n",
              "      <th>county</th>\n",
              "      <th>state</th>\n",
              "      <th>fips</th>\n",
              "      <th>cases</th>\n",
              "      <th>deaths</th>\n",
              "    </tr>\n",
              "  </thead>\n",
              "  <tbody>\n",
              "    <tr>\n",
              "      <th>107073</th>\n",
              "      <td>2020-05-02</td>\n",
              "      <td>Harris</td>\n",
              "      <td>Georgia</td>\n",
              "      <td>13145.0</td>\n",
              "      <td>61.0</td>\n",
              "      <td>2.0</td>\n",
              "    </tr>\n",
              "    <tr>\n",
              "      <th>107074</th>\n",
              "      <td>2020-05-02</td>\n",
              "      <td>Hart</td>\n",
              "      <td>Georgia</td>\n",
              "      <td>13147.0</td>\n",
              "      <td>11.0</td>\n",
              "      <td>0.0</td>\n",
              "    </tr>\n",
              "    <tr>\n",
              "      <th>107075</th>\n",
              "      <td>2020-05-02</td>\n",
              "      <td>Heard</td>\n",
              "      <td>Georgia</td>\n",
              "      <td>13149.0</td>\n",
              "      <td>11.0</td>\n",
              "      <td>1.0</td>\n",
              "    </tr>\n",
              "    <tr>\n",
              "      <th>107076</th>\n",
              "      <td>2020-05-02</td>\n",
              "      <td>Henry</td>\n",
              "      <td>Georgia</td>\n",
              "      <td>13151.0</td>\n",
              "      <td>512.0</td>\n",
              "      <td>13.0</td>\n",
              "    </tr>\n",
              "    <tr>\n",
              "      <th>107077</th>\n",
              "      <td>2020-05-02</td>\n",
              "      <td>Houst</td>\n",
              "      <td>NaN</td>\n",
              "      <td>NaN</td>\n",
              "      <td>NaN</td>\n",
              "      <td>NaN</td>\n",
              "    </tr>\n",
              "  </tbody>\n",
              "</table>\n",
              "</div>"
            ],
            "text/plain": [
              "              date  county    state     fips  cases  deaths\n",
              "107073  2020-05-02  Harris  Georgia  13145.0   61.0     2.0\n",
              "107074  2020-05-02    Hart  Georgia  13147.0   11.0     0.0\n",
              "107075  2020-05-02   Heard  Georgia  13149.0   11.0     1.0\n",
              "107076  2020-05-02   Henry  Georgia  13151.0  512.0    13.0\n",
              "107077  2020-05-02   Houst      NaN      NaN    NaN     NaN"
            ]
          },
          "metadata": {
            "tags": []
          },
          "execution_count": 7
        }
      ]
    },
    {
      "cell_type": "code",
      "metadata": {
        "id": "FOACGjldFYmV",
        "colab_type": "code",
        "colab": {
          "base_uri": "https://localhost:8080/",
          "height": 34
        },
        "outputId": "4c8171cd-b579-41a1-df77-5772fe590f38"
      },
      "source": [
        "df.columns"
      ],
      "execution_count": 8,
      "outputs": [
        {
          "output_type": "execute_result",
          "data": {
            "text/plain": [
              "Index(['date', 'county', 'state', 'fips', 'cases', 'deaths'], dtype='object')"
            ]
          },
          "metadata": {
            "tags": []
          },
          "execution_count": 8
        }
      ]
    },
    {
      "cell_type": "code",
      "metadata": {
        "id": "EnXy-YnJFa_u",
        "colab_type": "code",
        "colab": {
          "base_uri": "https://localhost:8080/",
          "height": 136
        },
        "outputId": "8bdcd316-8783-4207-ce03-747f64590a7c"
      },
      "source": [
        "df.isnull().sum()"
      ],
      "execution_count": 9,
      "outputs": [
        {
          "output_type": "execute_result",
          "data": {
            "text/plain": [
              "date         0\n",
              "county       0\n",
              "state        1\n",
              "fips      1268\n",
              "cases        1\n",
              "deaths       1\n",
              "dtype: int64"
            ]
          },
          "metadata": {
            "tags": []
          },
          "execution_count": 9
        }
      ]
    },
    {
      "cell_type": "code",
      "metadata": {
        "id": "OR4DHeDFFdtd",
        "colab_type": "code",
        "colab": {
          "base_uri": "https://localhost:8080/",
          "height": 34
        },
        "outputId": "0bbe364e-74a2-49d7-da74-b987efc1581f"
      },
      "source": [
        "df.size"
      ],
      "execution_count": 10,
      "outputs": [
        {
          "output_type": "execute_result",
          "data": {
            "text/plain": [
              "642468"
            ]
          },
          "metadata": {
            "tags": []
          },
          "execution_count": 10
        }
      ]
    },
    {
      "cell_type": "code",
      "metadata": {
        "id": "npJUfMK2FfHE",
        "colab_type": "code",
        "colab": {}
      },
      "source": [
        "#dropping all the null values \n",
        "df.dropna(inplace=True)\n",
        "#print(df)"
      ],
      "execution_count": 0,
      "outputs": []
    },
    {
      "cell_type": "code",
      "metadata": {
        "id": "ZJcUi8qxFuqV",
        "colab_type": "code",
        "colab": {}
      },
      "source": [
        ""
      ],
      "execution_count": 0,
      "outputs": []
    },
    {
      "cell_type": "code",
      "metadata": {
        "id": "_wMre3qdFiIJ",
        "colab_type": "code",
        "colab": {
          "base_uri": "https://localhost:8080/",
          "height": 136
        },
        "outputId": "5f01951b-066c-40ff-8f4c-5cdb25d9919a"
      },
      "source": [
        "df.isnull().sum()"
      ],
      "execution_count": 13,
      "outputs": [
        {
          "output_type": "execute_result",
          "data": {
            "text/plain": [
              "date      0\n",
              "county    0\n",
              "state     0\n",
              "fips      0\n",
              "cases     0\n",
              "deaths    0\n",
              "dtype: int64"
            ]
          },
          "metadata": {
            "tags": []
          },
          "execution_count": 13
        }
      ]
    },
    {
      "cell_type": "markdown",
      "metadata": {
        "id": "YERzlNZPHCip",
        "colab_type": "text"
      },
      "source": [
        "#the below bar plot shows the number of deaths for the states 'Maryland', 'Washington', 'Ohio', 'New York', 'Florida'"
      ]
    },
    {
      "cell_type": "code",
      "metadata": {
        "id": "hmKrJ3JFFnXw",
        "colab_type": "code",
        "colab": {
          "base_uri": "https://localhost:8080/",
          "height": 483
        },
        "outputId": "802fa907-f34d-471a-8ed1-7608efdc01af"
      },
      "source": [
        "fig, ax = plt.subplots(figsize=(15, 8))\n",
        "list_countries = ['Maryland', 'Washington', 'Ohio', 'New York', 'Florida']\n",
        "ax.clear() \n",
        "df4 = df[df['state'].isin(list_countries)]  \n",
        "#sleep(0.2)  \n",
        "ax.bar(df4['state'], df4['deaths'])\n",
        "plt.show()"
      ],
      "execution_count": 14,
      "outputs": [
        {
          "output_type": "display_data",
          "data": {
            "image/png": "[encoded data removed]",
            "text/plain": [
              "<Figure size 1080x576 with 1 Axes>"
            ]
          },
          "metadata": {
            "tags": [],
            "needs_background": "light"
          }
        }
      ]
    },
    {
      "cell_type": "code",
      "metadata": {
        "id": "GpgFN8TtFo9P",
        "colab_type": "code",
        "colab": {
          "base_uri": "https://localhost:8080/",
          "height": 419
        },
        "outputId": "fdee3909-1ab7-447e-d93c-26d7622e9604"
      },
      "source": [
        "df4.tail(100)"
      ],
      "execution_count": 15,
      "outputs": [
        {
          "output_type": "execute_result",
          "data": {
            "text/html": [
              "<div>\n",
              "<style scoped>\n",
              "    .dataframe tbody tr th:only-of-type {\n",
              "        vertical-align: middle;\n",
              "    }\n",
              "\n",
              "    .dataframe tbody tr th {\n",
              "        vertical-align: top;\n",
              "    }\n",
              "\n",
              "    .dataframe thead th {\n",
              "        text-align: right;\n",
              "    }\n",
              "</style>\n",
              "<table border=\"1\" class=\"dataframe\">\n",
              "  <thead>\n",
              "    <tr style=\"text-align: right;\">\n",
              "      <th></th>\n",
              "      <th>date</th>\n",
              "      <th>county</th>\n",
              "      <th>state</th>\n",
              "      <th>fips</th>\n",
              "      <th>cases</th>\n",
              "      <th>deaths</th>\n",
              "    </tr>\n",
              "  </thead>\n",
              "  <tbody>\n",
              "    <tr>\n",
              "      <th>106468</th>\n",
              "      <td>2020-05-01</td>\n",
              "      <td>Clark</td>\n",
              "      <td>Washington</td>\n",
              "      <td>53011.0</td>\n",
              "      <td>361.0</td>\n",
              "      <td>21.0</td>\n",
              "    </tr>\n",
              "    <tr>\n",
              "      <th>106469</th>\n",
              "      <td>2020-05-01</td>\n",
              "      <td>Columbia</td>\n",
              "      <td>Washington</td>\n",
              "      <td>53013.0</td>\n",
              "      <td>1.0</td>\n",
              "      <td>0.0</td>\n",
              "    </tr>\n",
              "    <tr>\n",
              "      <th>106470</th>\n",
              "      <td>2020-05-01</td>\n",
              "      <td>Cowlitz</td>\n",
              "      <td>Washington</td>\n",
              "      <td>53015.0</td>\n",
              "      <td>47.0</td>\n",
              "      <td>0.0</td>\n",
              "    </tr>\n",
              "    <tr>\n",
              "      <th>106471</th>\n",
              "      <td>2020-05-01</td>\n",
              "      <td>Douglas</td>\n",
              "      <td>Washington</td>\n",
              "      <td>53017.0</td>\n",
              "      <td>79.0</td>\n",
              "      <td>1.0</td>\n",
              "    </tr>\n",
              "    <tr>\n",
              "      <th>106472</th>\n",
              "      <td>2020-05-01</td>\n",
              "      <td>Ferry</td>\n",
              "      <td>Washington</td>\n",
              "      <td>53019.0</td>\n",
              "      <td>1.0</td>\n",
              "      <td>0.0</td>\n",
              "    </tr>\n",
              "    <tr>\n",
              "      <th>...</th>\n",
              "      <td>...</td>\n",
              "      <td>...</td>\n",
              "      <td>...</td>\n",
              "      <td>...</td>\n",
              "      <td>...</td>\n",
              "      <td>...</td>\n",
              "    </tr>\n",
              "    <tr>\n",
              "      <th>106997</th>\n",
              "      <td>2020-05-02</td>\n",
              "      <td>Union</td>\n",
              "      <td>Florida</td>\n",
              "      <td>12125.0</td>\n",
              "      <td>5.0</td>\n",
              "      <td>0.0</td>\n",
              "    </tr>\n",
              "    <tr>\n",
              "      <th>106999</th>\n",
              "      <td>2020-05-02</td>\n",
              "      <td>Volusia</td>\n",
              "      <td>Florida</td>\n",
              "      <td>12127.0</td>\n",
              "      <td>509.0</td>\n",
              "      <td>25.0</td>\n",
              "    </tr>\n",
              "    <tr>\n",
              "      <th>107000</th>\n",
              "      <td>2020-05-02</td>\n",
              "      <td>Wakulla</td>\n",
              "      <td>Florida</td>\n",
              "      <td>12129.0</td>\n",
              "      <td>23.0</td>\n",
              "      <td>1.0</td>\n",
              "    </tr>\n",
              "    <tr>\n",
              "      <th>107001</th>\n",
              "      <td>2020-05-02</td>\n",
              "      <td>Walton</td>\n",
              "      <td>Florida</td>\n",
              "      <td>12131.0</td>\n",
              "      <td>43.0</td>\n",
              "      <td>0.0</td>\n",
              "    </tr>\n",
              "    <tr>\n",
              "      <th>107002</th>\n",
              "      <td>2020-05-02</td>\n",
              "      <td>Washington</td>\n",
              "      <td>Florida</td>\n",
              "      <td>12133.0</td>\n",
              "      <td>12.0</td>\n",
              "      <td>0.0</td>\n",
              "    </tr>\n",
              "  </tbody>\n",
              "</table>\n",
              "<p>100 rows × 6 columns</p>\n",
              "</div>"
            ],
            "text/plain": [
              "              date      county       state     fips  cases  deaths\n",
              "106468  2020-05-01       Clark  Washington  53011.0  361.0    21.0\n",
              "106469  2020-05-01    Columbia  Washington  53013.0    1.0     0.0\n",
              "106470  2020-05-01     Cowlitz  Washington  53015.0   47.0     0.0\n",
              "106471  2020-05-01     Douglas  Washington  53017.0   79.0     1.0\n",
              "106472  2020-05-01       Ferry  Washington  53019.0    1.0     0.0\n",
              "...            ...         ...         ...      ...    ...     ...\n",
              "106997  2020-05-02       Union     Florida  12125.0    5.0     0.0\n",
              "106999  2020-05-02     Volusia     Florida  12127.0  509.0    25.0\n",
              "107000  2020-05-02     Wakulla     Florida  12129.0   23.0     1.0\n",
              "107001  2020-05-02      Walton     Florida  12131.0   43.0     0.0\n",
              "107002  2020-05-02  Washington     Florida  12133.0   12.0     0.0\n",
              "\n",
              "[100 rows x 6 columns]"
            ]
          },
          "metadata": {
            "tags": []
          },
          "execution_count": 15
        }
      ]
    },
    {
      "cell_type": "markdown",
      "metadata": {
        "id": "t0spnNXhHH2d",
        "colab_type": "text"
      },
      "source": [
        "#the below graph is for deaths and cases of covid-19"
      ]
    },
    {
      "cell_type": "code",
      "metadata": {
        "id": "dOS8bAggFslH",
        "colab_type": "code",
        "colab": {
          "base_uri": "https://localhost:8080/",
          "height": 390
        },
        "outputId": "69bf137d-75b0-47d5-d8af-264b9da03185"
      },
      "source": [
        "r_data = df4.groupby([\"state\"])[\"cases\", \"deaths\"].sum().reset_index()\n",
        "plt.figure(figsize=(15, 5))\n",
        "plt.plot(r_data['state'], r_data['deaths'],color='red')\n",
        "plt.plot(r_data['state'], r_data['cases'],color='green')\n",
        "plt.title('Death and cases for selected states')\n",
        "plt.show()"
      ],
      "execution_count": 17,
      "outputs": [
        {
          "output_type": "stream",
          "text": [
            "/usr/local/lib/python3.6/dist-packages/ipykernel_launcher.py:1: FutureWarning: Indexing with multiple keys (implicitly converted to a tuple of keys) will be deprecated, use a list instead.\n",
            "  \"\"\"Entry point for launching an IPython kernel.\n"
          ],
          "name": "stderr"
        },
        {
          "output_type": "display_data",
          "data": {
            "image/png": "[encoded data removed]",
            "text/plain": [
              "<Figure size 1080x360 with 1 Axes>"
            ]
          },
          "metadata": {
            "tags": [],
            "needs_background": "light"
          }
        }
      ]
    },
    {
      "cell_type": "code",
      "metadata": {
        "id": "vcHsT3tKFvhh",
        "colab_type": "code",
        "colab": {
          "base_uri": "https://localhost:8080/",
          "height": 204
        },
        "outputId": "85c40c3c-81c3-47ec-9960-2588f2714d23"
      },
      "source": [
        "r_data.head()"
      ],
      "execution_count": 18,
      "outputs": [
        {
          "output_type": "execute_result",
          "data": {
            "text/html": [
              "<div>\n",
              "<style scoped>\n",
              "    .dataframe tbody tr th:only-of-type {\n",
              "        vertical-align: middle;\n",
              "    }\n",
              "\n",
              "    .dataframe tbody tr th {\n",
              "        vertical-align: top;\n",
              "    }\n",
              "\n",
              "    .dataframe thead th {\n",
              "        text-align: right;\n",
              "    }\n",
              "</style>\n",
              "<table border=\"1\" class=\"dataframe\">\n",
              "  <thead>\n",
              "    <tr style=\"text-align: right;\">\n",
              "      <th></th>\n",
              "      <th>state</th>\n",
              "      <th>cases</th>\n",
              "      <th>deaths</th>\n",
              "    </tr>\n",
              "  </thead>\n",
              "  <tbody>\n",
              "    <tr>\n",
              "      <th>0</th>\n",
              "      <td>Florida</td>\n",
              "      <td>776806.0</td>\n",
              "      <td>22626.0</td>\n",
              "    </tr>\n",
              "    <tr>\n",
              "      <th>1</th>\n",
              "      <td>Maryland</td>\n",
              "      <td>359679.0</td>\n",
              "      <td>13300.0</td>\n",
              "    </tr>\n",
              "    <tr>\n",
              "      <th>2</th>\n",
              "      <td>New York</td>\n",
              "      <td>3135074.0</td>\n",
              "      <td>104387.0</td>\n",
              "    </tr>\n",
              "    <tr>\n",
              "      <th>3</th>\n",
              "      <td>Ohio</td>\n",
              "      <td>318021.0</td>\n",
              "      <td>13738.0</td>\n",
              "    </tr>\n",
              "    <tr>\n",
              "      <th>4</th>\n",
              "      <td>Washington</td>\n",
              "      <td>378610.0</td>\n",
              "      <td>20145.0</td>\n",
              "    </tr>\n",
              "  </tbody>\n",
              "</table>\n",
              "</div>"
            ],
            "text/plain": [
              "        state      cases    deaths\n",
              "0     Florida   776806.0   22626.0\n",
              "1    Maryland   359679.0   13300.0\n",
              "2    New York  3135074.0  104387.0\n",
              "3        Ohio   318021.0   13738.0\n",
              "4  Washington   378610.0   20145.0"
            ]
          },
          "metadata": {
            "tags": []
          },
          "execution_count": 18
        }
      ]
    },
    {
      "cell_type": "code",
      "metadata": {
        "id": "jCMsTaWcFxJy",
        "colab_type": "code",
        "colab": {
          "base_uri": "https://localhost:8080/",
          "height": 638
        },
        "outputId": "00b1e5f9-023e-44c5-c36a-223e37c5d276"
      },
      "source": [
        "#state vs deaths bar graph\n",
        "\n",
        "import numpy as np\n",
        "objects = (r_data['state'])\n",
        "y_pos = np.arange(len(objects))\n",
        "plt.figure(figsize=(10,10))\n",
        "\n",
        "\n",
        "performance = r_data['deaths']\n",
        "plt.figure(figsize=(10,10))\n",
        "plt.barh(y_pos, performance,align='center', alpha=0.5)\n",
        "plt.yticks(y_pos, objects)\n",
        "plt.xlabel('Deaths')\n",
        "plt.ylabel('State')\n",
        "plt.title('STATE VS DEATHS')\n",
        "\n",
        "plt.show()"
      ],
      "execution_count": 19,
      "outputs": [
        {
          "output_type": "display_data",
          "data": {
            "text/plain": [
              "<Figure size 720x720 with 0 Axes>"
            ]
          },
          "metadata": {
            "tags": []
          }
        },
        {
          "output_type": "display_data",
          "data": {
            "image/png": "[encoded data removed]",
            "text/plain": [
              "<Figure size 720x720 with 1 Axes>"
            ]
          },
          "metadata": {
            "tags": [],
            "needs_background": "light"
          }
        }
      ]
    },
    {
      "cell_type": "code",
      "metadata": {
        "id": "ZBeLMhm6F00W",
        "colab_type": "code",
        "colab": {
          "base_uri": "https://localhost:8080/",
          "height": 638
        },
        "outputId": "3f2ceb63-f172-4756-e267-0596992b838d"
      },
      "source": [
        "import numpy as np\n",
        "objects = (r_data['state'])\n",
        "y_pos = np.arange(len(objects))\n",
        "plt.figure(figsize=(10,10))\n",
        "\n",
        "\n",
        "performance = r_data['cases']\n",
        "plt.figure(figsize=(10,10))\n",
        "plt.barh(y_pos, performance,align='center', alpha=0.5)\n",
        "plt.yticks(y_pos, objects)\n",
        "plt.xlabel('STATE')\n",
        "plt.ylabel('cases')\n",
        "plt.title('STATE VS CASES')\n",
        "\n",
        "plt.show()"
      ],
      "execution_count": 20,
      "outputs": [
        {
          "output_type": "display_data",
          "data": {
            "text/plain": [
              "<Figure size 720x720 with 0 Axes>"
            ]
          },
          "metadata": {
            "tags": []
          }
        },
        {
          "output_type": "display_data",
          "data": {
            "image/png": "[encoded data removed]",
            "text/plain": [
              "<Figure size 720x720 with 1 Axes>"
            ]
          },
          "metadata": {
            "tags": [],
            "needs_background": "light"
          }
        }
      ]
    },
    {
      "cell_type": "code",
      "metadata": {
        "id": "d0RGtn2xF2qP",
        "colab_type": "code",
        "colab": {
          "base_uri": "https://localhost:8080/",
          "height": 621
        },
        "outputId": "fd8a4e2a-1cec-4757-dd12-7590765727a5"
      },
      "source": [
        "objects = (r_data['state'])\n",
        "y_pos = np.arange(len(objects))\n",
        "width = 2\n",
        "\n",
        "deaths = (r_data['deaths'])\n",
        "cases = (r_data['cases'])\n",
        "\n",
        "\n",
        "\n",
        "plt.figure(figsize=(10,10))\n",
        "\n",
        "plt.barh(y_pos, cases, align='center', label='cases')\n",
        "plt.barh(y_pos , deaths, align='center', color = 'red' , label='deaths')\n",
        "\n",
        "\n",
        "\n",
        "\n",
        "plt.yticks(y_pos, objects)\n",
        "plt.xlabel('Rate')\n",
        "plt.title('FIGURE 28. Child Mortality vs Maternal Mortality')\n",
        "\n",
        "plt.legend()\n",
        "\n",
        "plt.show()"
      ],
      "execution_count": 21,
      "outputs": [
        {
          "output_type": "display_data",
          "data": {
            "image/png": "[encoded data removed]",
            "text/plain": [
              "<Figure size 720x720 with 1 Axes>"
            ]
          },
          "metadata": {
            "tags": [],
            "needs_background": "light"
          }
        }
      ]
    },
    {
      "cell_type": "code",
      "metadata": {
        "id": "I1iSTWHOF5TS",
        "colab_type": "code",
        "colab": {}
      },
      "source": [
        ""
      ],
      "execution_count": 0,
      "outputs": []
    },
    {
      "cell_type": "markdown",
      "metadata": {
        "id": "NJtQjWSIHM0J",
        "colab_type": "text"
      },
      "source": [
        "#from the above graph we can tell that the number of cases in the state of New York is more \n",
        "#and the deaths are more in New York as compared to other states \n",
        "#we can see that the number of cases are more and the deaths are comparativetly less as compares to \n",
        "#number of cases "
      ]
    }
  ]
}